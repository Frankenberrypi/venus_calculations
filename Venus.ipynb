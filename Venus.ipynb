{
 "cells": [
  {
   "cell_type": "markdown",
   "metadata": {
    "Collapsed": "false"
   },
   "source": [
    "Measured distances in image overlay  \n",
    "Electra to Atlas = 57.7609  \n",
    "Venus to Venus = 0.9470  \n",
    "\n",
    "Relative positions in ecliptic longitude, latitude, J2000  \n",
    "Electra: 59° 24' 42.9\", 4° 11' 22.8\"  \n",
    "Atlas: 60° 21' 21.4\",3° 55' 01.9\""
   ]
  },
  {
   "cell_type": "code",
   "execution_count": 1,
   "metadata": {
    "Collapsed": "false"
   },
   "outputs": [],
   "source": [
    "import numpy as np\n",
    "import astropy.units as u"
   ]
  },
  {
   "cell_type": "code",
   "execution_count": 2,
   "metadata": {
    "Collapsed": "false"
   },
   "outputs": [],
   "source": [
    "electra_long = (59 + (24 + (42.9)/60)/60) * u.deg\n",
    "electra_lat = (4 + (11 + (22.8)/60)/60) * u.deg\n",
    "\n",
    "electra_long = electra_long.to(u.rad).value\n",
    "electra_lat = electra_lat.to(u.rad).value"
   ]
  },
  {
   "cell_type": "code",
   "execution_count": 3,
   "metadata": {
    "Collapsed": "false"
   },
   "outputs": [],
   "source": [
    "atlas_long = (60 + (21 + (21.4)/60)/60) * u.deg\n",
    "atlas_lat = (3 + (55 + (1.9)/60)/60) * u.deg\n",
    "\n",
    "atlas_long = atlas_long.to(u.rad).value\n",
    "atlas_lat = atlas_lat.to(u.rad).value"
   ]
  },
  {
   "cell_type": "code",
   "execution_count": 4,
   "metadata": {
    "Collapsed": "false"
   },
   "outputs": [],
   "source": [
    "r = np.array([electra_long - atlas_long, electra_lat - atlas_lat])"
   ]
  },
  {
   "cell_type": "code",
   "execution_count": 5,
   "metadata": {
    "Collapsed": "false"
   },
   "outputs": [
    {
     "data": {
      "text/plain": [
       "0.017148955089720506"
      ]
     },
     "execution_count": 5,
     "metadata": {},
     "output_type": "execute_result"
    }
   ],
   "source": [
    "ang_distance = np.linalg.norm(r)\n",
    "ang_distance"
   ]
  },
  {
   "cell_type": "code",
   "execution_count": 6,
   "metadata": {
    "Collapsed": "false"
   },
   "outputs": [],
   "source": [
    "venus_angle = ang_distance * 0.9470 / 57.7609\n",
    "venus_paralax = venus_angle/2"
   ]
  },
  {
   "cell_type": "markdown",
   "metadata": {
    "Collapsed": "false"
   },
   "source": [
    "<img src=\"Angles.jpg\" style=\"width:300px\">"
   ]
  },
  {
   "cell_type": "code",
   "execution_count": 7,
   "metadata": {
    "Collapsed": "false"
   },
   "outputs": [],
   "source": [
    "# San Diego to Cincinati distance from Wolfram Alpah = 3008 km\n",
    "# This is a great circle distance, straight line distance should be used, should give a larger than expected result\n",
    "baseline = 3008 * u.km / 2"
   ]
  },
  {
   "cell_type": "code",
   "execution_count": 8,
   "metadata": {
    "Collapsed": "false"
   },
   "outputs": [
    {
     "data": {
      "text/latex": [
       "$0.071515261 \\; \\mathrm{AU}$"
      ],
      "text/plain": [
       "<Quantity 0.07151526 AU>"
      ]
     },
     "execution_count": 8,
     "metadata": {},
     "output_type": "execute_result"
    }
   ],
   "source": [
    "distance_to_venus = baseline / np.tan(venus_paralax)\n",
    "distance_to_venus.to(u.au)"
   ]
  },
  {
   "cell_type": "markdown",
   "metadata": {
    "Collapsed": "false"
   },
   "source": [
    "<img src=\"Venus.jpg\">"
   ]
  },
  {
   "cell_type": "code",
   "execution_count": null,
   "metadata": {
    "Collapsed": "false"
   },
   "outputs": [],
   "source": []
  }
 ],
 "metadata": {
  "kernelspec": {
   "display_name": "Python 3",
   "language": "python",
   "name": "python3"
  },
  "language_info": {
   "codemirror_mode": {
    "name": "ipython",
    "version": 3
   },
   "file_extension": ".py",
   "mimetype": "text/x-python",
   "name": "python",
   "nbconvert_exporter": "python",
   "pygments_lexer": "ipython3",
   "version": "3.8.1"
  }
 },
 "nbformat": 4,
 "nbformat_minor": 4
}
